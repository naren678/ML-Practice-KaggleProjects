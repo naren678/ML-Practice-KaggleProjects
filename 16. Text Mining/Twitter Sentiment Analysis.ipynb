{
 "cells": [
  {
   "cell_type": "code",
   "execution_count": 1,
   "metadata": {},
   "outputs": [],
   "source": [
    "import pandas as pd\n",
    "import tweepy "
   ]
  },
  {
   "cell_type": "code",
   "execution_count": 2,
   "metadata": {},
   "outputs": [],
   "source": [
    "Consumer_key='jM1PmETmzFK9LATdshxiTUhpo'\n",
    "Consumer_secret='Jq3wel0dfiyG3Wucnz5q5uLeWYEu5o23UwTB31L77zsuN8DX4V'\n",
    "Access_key='1286901432424124416-R6DlbDDK2hgdYyiwUuzGhZ6KBKribp'\n",
    "Access_secret='ZrYBsM4KH5xY684IBYTpz9Vqy9ELFAZDgpLjAV6dQ1XpX'"
   ]
  },
  {
   "cell_type": "code",
   "execution_count": 3,
   "metadata": {},
   "outputs": [],
   "source": [
    "auth = tweepy.OAuthHandler(Consumer_key,Consumer_secret)\n",
    "auth.set_access_token(Access_key,Access_secret)\n",
    "api = tweepy.API(auth)"
   ]
  },
  {
   "cell_type": "code",
   "execution_count": 4,
   "metadata": {},
   "outputs": [],
   "source": [
    "public_tweets = api.search('AVENGERS')"
   ]
  },
  {
   "cell_type": "code",
   "execution_count": 5,
   "metadata": {},
   "outputs": [],
   "source": [
    "from textblob import TextBlob"
   ]
  },
  {
   "cell_type": "code",
   "execution_count": 6,
   "metadata": {},
   "outputs": [
    {
     "name": "stdout",
     "output_type": "stream",
     "text": [
      "RT @BABYMETAL_News_: Student Council President and part-time Avenger KANOMETAL/Kano Fujihira will be graduating from Sakura Gakuin on Augus…\n",
      "Sentiment(polarity=0.0, subjectivity=0.0)\n",
      "Neutral\n",
      "RT @abciamunknow: @scvrene แงงงงงงงงง ในจักรวาลmcu จะไม่มีแคป ไม่มีไอร่อนแมน ไม่มีแนทแล้วเนอะ ฮือ จำได้ว่าตอนไปดูน้องพีทแล้วมันขึ้นฉากไว้อา…\n",
      "Sentiment(polarity=0.0, subjectivity=0.0)\n",
      "Neutral\n",
      "Hola, @VideojuegosGAME , estáis enviando los códigos para la beta de avengers de PS4? Tengo la reserva de la colecc… https://t.co/h8QoI4Njuo\n",
      "Sentiment(polarity=0.0, subjectivity=0.0)\n",
      "Neutral\n",
      "Will I lose my job today? Stay tuned.\n",
      "Sentiment(polarity=0.0, subjectivity=0.0)\n",
      "Neutral\n",
      "RT @CBMshots: Avengers: Infinity War https://t.co/wDtXEoYKnQ\n",
      "Sentiment(polarity=0.0, subjectivity=0.0)\n",
      "Neutral\n",
      "RT @Kpholla12: This is the Avengers of Aunties.\n",
      "Sentiment(polarity=0.0, subjectivity=0.0)\n",
      "Neutral\n",
      "RT @Kpholla12: This is the Avengers of Aunties.\n",
      "Sentiment(polarity=0.0, subjectivity=0.0)\n",
      "Neutral\n",
      "RT @90sBabyShow: 👀👀NEW PODCAST EPISODE👀👀\n",
      "\n",
      "Black Influencers Ft. @missmariammusa\n",
      "\n",
      "#90sBabyShow\n",
      "\n",
      "🔗 https://t.co/rZh8l8OCNJ\n",
      "\n",
      "🗣Say No To Tech F…\n",
      "Sentiment(polarity=-0.16666666666666666, subjectivity=0.43333333333333335)\n",
      "Negative\n",
      "RT @etherealqvake: THE AVENGERS AIN'T NOTHING #AgentsofSHIELD https://t.co/ZSluG1L1pM\n",
      "Sentiment(polarity=0.0, subjectivity=0.0)\n",
      "Neutral\n",
      "RT @Kpholla12: This is the Avengers of Aunties.\n",
      "Sentiment(polarity=0.0, subjectivity=0.0)\n",
      "Neutral\n",
      "@sadie_flirt Good morning to you too ☀️\n",
      "Sentiment(polarity=0.7, subjectivity=0.6000000000000001)\n",
      "positive\n",
      "RT @deadmushi: Avengers Ultimato https://t.co/x0VcwCTVph\n",
      "Sentiment(polarity=0.0, subjectivity=0.0)\n",
      "Neutral\n"
     ]
    }
   ],
   "source": [
    "from textblob import TextBlob\n",
    "for tweet in public_tweets:\n",
    "    print(tweet.text)\n",
    "    analysis = TextBlob(tweet.text)\n",
    "    print(analysis.sentiment)\n",
    "    if analysis.sentiment[0]>0:\n",
    "        print('positive')\n",
    "    elif analysis.sentiment[0]<0:    \n",
    "        print('Negative')\n",
    "    else:\n",
    "        print('Neutral')"
   ]
  },
  {
   "cell_type": "code",
   "execution_count": null,
   "metadata": {},
   "outputs": [],
   "source": []
  }
 ],
 "metadata": {
  "kernelspec": {
   "display_name": "Python 3",
   "language": "python",
   "name": "python3"
  },
  "language_info": {
   "codemirror_mode": {
    "name": "ipython",
    "version": 3
   },
   "file_extension": ".py",
   "mimetype": "text/x-python",
   "name": "python",
   "nbconvert_exporter": "python",
   "pygments_lexer": "ipython3",
   "version": "3.8.3"
  }
 },
 "nbformat": 4,
 "nbformat_minor": 2
}
